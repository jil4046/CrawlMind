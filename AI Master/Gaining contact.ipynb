{
 "cells": [
  {
   "cell_type": "code",
   "execution_count": null,
   "id": "6823f709",
   "metadata": {},
   "outputs": [
    {
     "ename": "",
     "evalue": "",
     "output_type": "error",
     "traceback": [
      "\u001b[1;31mThe kernel failed to start as the Python Environment 'Python 3.13.3' is no longer available. Consider selecting another kernel or refreshing the list of Python Environments."
     ]
    }
   ],
   "source": [
    "from selenium import webdriver\n",
    "from selenium.webdriver.common.by import By\n",
    "from selenium.webdriver.chrome.service import Service as ChromeService\n",
    "from webdriver_manager.chrome import ChromeDriverManager # 自动管理 ChromeDriver\n",
    "import time\n",
    "\n",
    "def get_columbia_professor_info_selenium(url):\n",
    "    professors_data = []\n",
    "    driver = None # 初始化 driver 变量\n",
    "\n",
    "    try:\n",
    "        # 自动下载和管理 ChromeDriver\n",
    "        service = ChromeService(ChromeDriverManager().install())\n",
    "        options = webdriver.ChromeOptions()\n",
    "        options.add_argument('--headless') # 无头模式：不显示浏览器窗口\n",
    "        options.add_argument('--disable-gpu') # 禁用 GPU 硬件加速\n",
    "        options.add_argument('--no-sandbox') # 禁用沙盒模式\n",
    "        options.add_argument('--disable-dev-shm-usage') # 解决Linux下共享内存问题\n",
    "        # 添加 User-Agent，虽然Selenium会模拟真实User-Agent，但显式设置可能更好\n",
    "        options.add_argument('user-agent=Mozilla/5.0 (Windows NT 10.0; Win64; x64) AppleWebKit/537.36 (KHTML, like Gecko) Chrome/124.0.0.0 Safari/537.36')\n",
    "\n",
    "        driver = webdriver.Chrome(service=service, options=options)\n",
    "        driver.get(url)\n",
    "\n",
    "        # 等待页面加载完成，可以根据实际情况调整等待时间或使用显式等待\n",
    "        time.sleep(5) # 等待5秒，确保JavaScript内容加载完成\n",
    "\n",
    "        # 使用你提供的 CSS class 来定位教授的链接\n",
    "        # <a href=\"/faculty/people/eric-abrahamson\" class=\"m-listing-faculty__link\" ...>\n",
    "        professor_link_wrappers = driver.find_elements(By.CLASS_NAME, 'm-listing-faculty__link')\n",
    "\n",
    "        if not professor_link_wrappers:\n",
    "            print(\"警告：Selenium 未找到任何 class='m-listing-faculty__link' 的元素。\")\n",
    "            # 调试时可以打印页面源码\n",
    "            # print(driver.page_source)\n",
    "\n",
    "        for wrapper_link in professor_link_wrappers:\n",
    "            full_link = wrapper_link.get_attribute('href')\n",
    "\n",
    "            name = None\n",
    "            # 尝试从内部元素获取姓名\n",
    "            # 再次强调，你可能需要检查这个 <a> 标签内部哪个元素包含姓名\n",
    "            # 假设它在一个 class 为 'faculty-name-display' 的 span 中\n",
    "            try:\n",
    "                name_element = wrapper_link.find_element(By.CLASS_NAME, 'm-listing-faculty__title') # 猜测一个可能的class，需要实际检查\n",
    "                name = name_element.text.strip()\n",
    "            except Exception:\n",
    "                # 如果没找到特定元素，尝试从 aria-label 获取\n",
    "                aria_label_text = wrapper_link.get_attribute('aria-label')\n",
    "                if aria_label_text and \"Read More about \" in aria_label_text:\n",
    "                    name = aria_label_text.replace(\"Read More about \", \"\").strip()\n",
    "                elif wrapper_link.text: # 最后尝试获取链接的全部可见文本\n",
    "                    name = wrapper_link.text.strip()\n",
    "\n",
    "            if name and full_link:\n",
    "                professors_data.append({\n",
    "                    'name': name,\n",
    "                    'personal_page_link': full_link\n",
    "                })\n",
    "\n",
    "    except Exception as e:\n",
    "        print(f\"使用 Selenium 发生错误: {e}\")\n",
    "    finally:\n",
    "        if driver:\n",
    "            driver.quit() # 确保关闭浏览器驱动\n",
    "\n",
    "    return professors_data\n",
    "\n",
    "if __name__ == \"__main__\":\n",
    "    faculty_url = \"https://business.columbia.edu/faculty/divisions/management/faculty\"\n",
    "\n",
    "    print(f\"正在使用 Selenium 从 {faculty_url} 获取教授姓名和个人页面链接...\")\n",
    "    professor_list = get_columbia_professor_info_selenium(faculty_url)\n",
    "\n",
    "    if professor_list:\n",
    "        print(f\"成功获取 {len(professor_list)} 位教授的信息:\")\n",
    "        for prof in professor_list:\n",
    "            print(f\"姓名: {prof['name']}, 个人页面: {prof['personal_page_link']}\")\n",
    "    else:\n",
    "        print(\"未能获取到任何教授信息。请检查 URL 或 HTML 结构解析部分是否需要调整。\")"
   ]
  },
  {
   "cell_type": "code",
   "execution_count": null,
   "id": "0dd1c080",
   "metadata": {},
   "outputs": [],
   "source": []
  },
  {
   "cell_type": "code",
   "execution_count": null,
   "id": "c4077651",
   "metadata": {},
   "outputs": [],
   "source": []
  },
  {
   "cell_type": "code",
   "execution_count": null,
   "id": "1138659f",
   "metadata": {},
   "outputs": [
    {
     "ename": "",
     "evalue": "",
     "output_type": "error",
     "traceback": [
      "\u001b[1;31mThe kernel failed to start as the Python Environment 'Python 3.13.3' is no longer available. Consider selecting another kernel or refreshing the list of Python Environments."
     ]
    }
   ],
   "source": [
    "pip install openpyxl"
   ]
  },
  {
   "cell_type": "code",
   "execution_count": null,
   "id": "78471d13",
   "metadata": {},
   "outputs": [],
   "source": []
  }
 ],
 "metadata": {
  "kernelspec": {
   "display_name": ".venv",
   "language": "python",
   "name": "python3"
  },
  "language_info": {
   "name": "python",
   "version": "3.13.3"
  }
 },
 "nbformat": 4,
 "nbformat_minor": 5
}
