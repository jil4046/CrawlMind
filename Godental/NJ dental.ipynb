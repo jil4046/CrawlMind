{
 "cells": [
  {
   "cell_type": "code",
   "id": "initial_id",
   "metadata": {
    "collapsed": true,
    "ExecuteTime": {
     "end_time": "2025-06-16T18:20:48.098603Z",
     "start_time": "2025-06-16T18:20:44.415658Z"
    }
   },
   "source": [
    "import requests\n",
    "import csv\n",
    "import json\n",
    "\n",
    "# Overpass API 查询（新泽西州牙科诊所）\n",
    "overpass_query = \"\"\"\n",
    "[out:json][timeout:30];\n",
    "area[\"name\"=\"New Jersey\"]->.searchArea;\n",
    "(\n",
    "  node[\"amenity\"=\"dentist\"](area.searchArea);\n",
    "  way[\"amenity\"=\"dentist\"](area.searchArea);\n",
    "  relation[\"amenity\"=\"dentist\"](area.searchArea);\n",
    ");\n",
    "out body;\n",
    ">;\n",
    "out skel qt;\n",
    "\"\"\"\n",
    "\n",
    "# 请求 Overpass API\n",
    "url = \"https://overpass-api.de/api/interpreter\"\n",
    "response = requests.post(url, data=overpass_query)\n",
    "data = response.json()\n",
    "\n",
    "# 提取并清洗数据\n",
    "clinics = []\n",
    "for element in data[\"elements\"]:\n",
    "    if \"tags\" not in element:\n",
    "        continue\n",
    "    \n",
    "    tags = element[\"tags\"]\n",
    "    \n",
    "    # 诊所名称（必填）\n",
    "    name = tags.get(\"name\", \"Unknown Dental Clinic\")\n",
    "    \n",
    "    # 直接获取已标注的地址（优先使用）\n",
    "    address = tags.get(\"addr:full\", \"\")\n",
    "    if not address:\n",
    "        # 若未标注完整地址，拼接各部分\n",
    "        address_parts = [\n",
    "            tags.get(\"addr:street\", \"\"),\n",
    "            tags.get(\"addr:city\", \"\"),\n",
    "            tags.get(\"addr:state\", \"NJ\"),\n",
    "            tags.get(\"addr:postcode\", \"\")\n",
    "        ]\n",
    "        address = \", \".join(filter(None, address_parts))  # 过滤空值\n",
    "    \n",
    "    # 若地址仍为空，尝试通过经纬度反向解析（需联网）\n",
    "    if not address and (\"lat\" in element and \"lon\" in element):\n",
    "        try:\n",
    "            lat, lon = element[\"lat\"], element[\"lon\"]\n",
    "            nominatim_url = f\"https://nominatim.openstreetmap.org/reverse?lat={lat}&lon={lon}&format=json\"\n",
    "            nominatim_response = requests.get(nominatim_url, headers={\"User-Agent\": \"Mozilla/5.0\"})\n",
    "            if nominatim_response.status_code == 200:\n",
    "                nominatim_data = nominatim_response.json()\n",
    "                address = nominatim_data.get(\"display_name\", \"\")\n",
    "        except Exception as e:\n",
    "            print(f\"反向地理编码失败：{e}\")\n",
    "    \n",
    "    # 电话（保留原始数据，不添加 +1）\n",
    "    phone = tags.get(\"phone\", \"\").strip()\n",
    "    \n",
    "    # 邮箱和网站\n",
    "    email = tags.get(\"email\", \"\")\n",
    "    website = tags.get(\"website\", \"\")\n",
    "    \n",
    "    clinics.append({\n",
    "        \"name\": name,\n",
    "        \"address\": address if address else \"\",  # 确保无地址时留空\n",
    "        \"phone\": phone if phone else \"\",\n",
    "        \"email\": email if email else \"\",\n",
    "        \"website\": website if website else \"\"\n",
    "    })\n",
    "\n",
    "# 导出为 CSV（仅保留名称、地址、电话、邮箱、网站）\n",
    "csv_columns = [\"name\", \"address\", \"phone\", \"email\", \"website\"]\n",
    "csv_file = \"new_jersey_dentists_final.csv\"\n",
    "\n",
    "with open(csv_file, \"w\", newline=\"\", encoding=\"utf-8\") as f:\n",
    "    writer = csv.DictWriter(f, fieldnames=csv_columns)\n",
    "    writer.writeheader()\n",
    "    writer.writerows(clinics)\n",
    "\n",
    "print(f\"成功导出 {len(clinics)} 家牙科诊所数据到 {csv_file}\")"
   ],
   "outputs": [
    {
     "name": "stdout",
     "output_type": "stream",
     "text": [
      "成功导出 523 家牙科诊所数据到 new_jersey_dentists_final.csv\n"
     ]
    }
   ],
   "execution_count": 24
  }
 ],
 "metadata": {
  "kernelspec": {
   "display_name": "Python 3",
   "language": "python",
   "name": "python3"
  },
  "language_info": {
   "codemirror_mode": {
    "name": "ipython",
    "version": 2
   },
   "file_extension": ".py",
   "mimetype": "text/x-python",
   "name": "python",
   "nbconvert_exporter": "python",
   "pygments_lexer": "ipython2",
   "version": "2.7.6"
  }
 },
 "nbformat": 4,
 "nbformat_minor": 5
}
